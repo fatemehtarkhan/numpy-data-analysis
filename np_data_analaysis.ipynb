{
 "cells": [
  {
   "cell_type": "code",
   "execution_count": null,
   "id": "d0806c9a-a6c0-4a76-96aa-9caaa1c48ec9",
   "metadata": {},
   "outputs": [],
   "source": [
    "# Hello there :))"
   ]
  },
  {
   "cell_type": "code",
   "execution_count": null,
   "id": "1f2a6696-3156-48d1-a2fb-0df3d0e9a8e9",
   "metadata": {},
   "outputs": [],
   "source": []
  }
 ],
 "metadata": {
  "kernelspec": {
   "display_name": "Python 3 (ipykernel)",
   "language": "python",
   "name": "python3"
  },
  "language_info": {
   "codemirror_mode": {
    "name": "ipython",
    "version": 3
   },
   "file_extension": ".py",
   "mimetype": "text/x-python",
   "name": "python",
   "nbconvert_exporter": "python",
   "pygments_lexer": "ipython3",
   "version": "3.12.7"
  }
 },
 "nbformat": 4,
 "nbformat_minor": 5
}
